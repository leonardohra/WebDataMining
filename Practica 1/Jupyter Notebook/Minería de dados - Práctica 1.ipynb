{
 "cells": [
  {
   "cell_type": "markdown",
   "metadata": {},
   "source": [
    "# 1ª tarea"
   ]
  },
  {
   "cell_type": "markdown",
   "metadata": {},
   "source": [
    "Es necesario descargar los 27 capitulos del libro \"The Little Prince (Antoine de Saint Exupéry)\", de la seguiente url: http://www.angelfire.com/hi/littleprince/frames.html\n",
    "<br>Para eso fue criado un archivo llamado data_retrieval.py\n",
    "<br>Ese archivo va entrar en los sitios de los capitulos del libro y utilizar Beautiful Soup 4 para extraer el texto de cada pagina."
   ]
  },
  {
   "cell_type": "code",
   "execution_count": 7,
   "metadata": {},
   "outputs": [],
   "source": [
    "########### Código en data_retrieval.py ###########\n",
    "\n",
    "# Si no tiene BeautifulSoup, puedes descarga-lo con\n",
    "# pip install beautifulsoup4\n",
    "\n",
    "from bs4 import BeautifulSoup\n",
    "\n",
    "# Vas hacer requisiciones con requests para tomar las paginas web con los capitulos, puedes descarga-lo con\n",
    "# pip install\n",
    "import requests\n",
    "\n",
    "# Acá vamos crear el objeto beautifulsoup que tiene todo el texto de una página html\n",
    "def open_soup(link):\n",
    "    # Hace una requisición para el sitio, con un tiempo de 20 segundos para el timeout\n",
    "    page_response = requests.get(link, timeout=20)\n",
    "    # Crea un objeto BeautifulSoup con el contenido, utilisando um parser html\n",
    "    soup = BeautifulSoup(page_response.content, \"html.parser\")\n",
    "    return soup"
   ]
  },
  {
   "cell_type": "code",
   "execution_count": 8,
   "metadata": {},
   "outputs": [],
   "source": [
    "########### Código en data_retrieval.py ###########\n",
    "\n",
    "# Acá juntaremos todo el texto del libro en una variable\n",
    "def create_book():\n",
    "    # Primero necesitamos los links de cada capitulo\n",
    "    links = [\n",
    "            'http://www.angelfire.com/hi/littleprince/framechapter1.html',\n",
    "            'http://www.angelfire.com/hi/littleprince/framechapter2.html',\n",
    "            'http://www.angelfire.com/hi/littleprince/framechapter3.html',\n",
    "            'http://www.angelfire.com/hi/littleprince/framechapter4.html',\n",
    "            'http://www.angelfire.com/hi/littleprince/framechapter5.html',\n",
    "            'http://www.angelfire.com/hi/littleprince/framechapter6.html',\n",
    "            'http://www.angelfire.com/hi/littleprince/framechapter7.html',\n",
    "            'http://www.angelfire.com/hi/littleprince/framechapter8.html',\n",
    "            'http://www.angelfire.com/hi/littleprince/framechapter9.html',\n",
    "            'http://www.angelfire.com/hi/littleprince/framechapter10.html',\n",
    "            'http://www.angelfire.com/hi/littleprince/framechapter11.html',\n",
    "            'http://www.angelfire.com/hi/littleprince/framechapter12.html',\n",
    "            'http://www.angelfire.com/hi/littleprince/framechapter13.html',\n",
    "            'http://www.angelfire.com/hi/littleprince/framechapter14.html',\n",
    "            'http://www.angelfire.com/hi/littleprince/framechapter15.html',\n",
    "            'http://www.angelfire.com/hi/littleprince/framechapter16.html',\n",
    "            'http://www.angelfire.com/hi/littleprince/framechapter17.html',\n",
    "            'http://www.angelfire.com/hi/littleprince/framechapter18.html',\n",
    "            'http://www.angelfire.com/hi/littleprince/framechapter19.html',\n",
    "            'http://www.angelfire.com/hi/littleprince/framechapter20.html',\n",
    "            'http://www.angelfire.com/hi/littleprince/framechapter21.html',\n",
    "            'http://www.angelfire.com/hi/littleprince/framechapter22.html',\n",
    "            'http://www.angelfire.com/hi/littleprince/framechapter23.html',\n",
    "            'http://www.angelfire.com/hi/littleprince/framechapter24.html',\n",
    "            'http://www.angelfire.com/hi/littleprince/framechapter25.html',\n",
    "            'http://www.angelfire.com/hi/littleprince/framechapter26.html',\n",
    "            'http://www.angelfire.com/hi/littleprince/framechapter27.html'\n",
    "        ]\n",
    "    \n",
    "    # Después crearemos objetos soup para cada un de los capitulos\n",
    "    soups = [open_soup(link) for link in links]\n",
    "    # Esa variable es la que va tener todo el libro\n",
    "    book = ''\n",
    "    \n",
    "    # Y para cada uno de los objetos soup, buscaremos el contenido del texto en el primero \"<p>\" posible\n",
    "    for soup in soups:\n",
    "        text = soup.find('p').get_text()\n",
    "        book += text + '\\n'\n",
    "    \n",
    "    return book"
   ]
  },
  {
   "cell_type": "markdown",
   "metadata": {},
   "source": [
    "Con eso tenemos todo lo necesario para tener una variable con un texto con el contenido del libro.\n",
    "<br>Asi, podemos hacer un codigo para guardar la variable en un archivo de texto, si es que no existe. \n",
    "<br>Asi despues podemos cargar el texto mas rápido."
   ]
  },
  {
   "cell_type": "code",
   "execution_count": 28,
   "metadata": {},
   "outputs": [
    {
     "name": "stdout",
     "output_type": "stream",
     "text": [
      "Book found!\n",
      "aper and my fountain-pen.  But then I remembered how my studies had been concentrated on geography, history, arithmetic and grammar, and I told the little chap (a little crossly, too) that I did not know how to draw.  He answered me:\n",
      "\"That doesn't matter.  Draw me a sheep . . .\"\n",
      "But I had never drawn a sheep.  So I drew for him one of the two pictures I had drawn so often.  It was that of the boa constrictor from the outside.  And I was astounded to hear the little fellow greet it with,\n",
      "\"No, no, no!  I do not want an elephant inside a boa constrictor.  A boa constrictor is a very dangerous creature, and an elephant is very cumbersome.  Where I live, everything is very small.  What I need is a sheep.  Draw me a sheep.\"\n",
      "So then I made a drawing.\n",
      "He looked at it carefully, then he said:\n",
      "\"No.  This sheep is already very sickly.  Make me another.\"\n",
      "So I made another drawing.\n",
      "My friend smiled gently and indulgently.\n",
      "\"You see yourself,\" he said, \"that this is not a sheep.  This is a ram.  It h\n"
     ]
    }
   ],
   "source": [
    "########### Código en main.py ###########\n",
    "\n",
    "# Ese modulo va ayudar-nos a chequear si existe un arquivo con el texto del libro\n",
    "import os\n",
    "\n",
    "# Vamos utilizar la función create_book del archivo data_retrieval\n",
    "from data_retrieval import create_book\n",
    "\n",
    "# Esa función va guardar la variable de texto \"book\" en el archivo con el path \"location\"\n",
    "def save_book(book, location):\n",
    "    # Abres un archivo con el path \"location\", con el modo de escrita ('w') e llama-lo de \"file\"\n",
    "    with open(location, 'w') as file:\n",
    "        # Escribe el contenido de la variable \"book\" en \"file\"\n",
    "        file.write(book)\n",
    "\n",
    "# Esa función fue creada solo para el jupyter notebook, para una mejor visualización de los datos\n",
    "def read_book_from_source(source):\n",
    "    f = open(source, 'r')\n",
    "    text = ''\n",
    "    for line in f:\n",
    "        if(line != '\\n'):\n",
    "            text += line\n",
    "    \n",
    "    return text\n",
    "        \n",
    "# Acá es el path del libro\n",
    "book_file = './Book.txt'\n",
    "# Vamos utilizar la función para saber si hay un arquivo con el mismo path\n",
    "book_downloaded = os.path.isfile(book_file)\n",
    "# Contenido del libro (variable creada solo para el jupyter notebook)\n",
    "book = ''\n",
    "\n",
    "# Si no hay el archivo, devemos descarga-lo y guarda-lo con el path \"book_file\"\n",
    "if(not book_downloaded):\n",
    "    print(\"Couldn't find book file, downloading it, please wait...\")\n",
    "    book = create_book()\n",
    "    save_book(book, book_file)\n",
    "    print('Book downloaded and saved as {}'.format(book_file))\n",
    "else:\n",
    "    print('Book found!')\n",
    "    book = read_book_from_source(book_file)\n",
    "    \n",
    "print(book[5000:6000])"
   ]
  },
  {
   "cell_type": "markdown",
   "metadata": {},
   "source": [
    "Con eso, el libro está descargado, y la 1ª Tarea completa"
   ]
  },
  {
   "cell_type": "markdown",
   "metadata": {},
   "source": [
    "# 3ª Tarea"
   ]
  },
  {
   "cell_type": "markdown",
   "metadata": {},
   "source": [
    "Para hacer la 2ª tarea, yo preferi hacer primero la eliminación de ruído, tokenizar e normalizar el texto.\n",
    "<br> Entonces, esa tarea es dividida en 3 partes, con una preparación\n",
    "\n",
    "## Parte 0: Preparación\n",
    "\n",
    "Cuando tienes un texto en inglés, el texto hay muchas contraciones, por ejemplo: \"It's\" -> \"It is\", \"You're\" -> \"You are\", entonces en esa preparación vamos hacer la transformación de todas las contraciones en sus palabras."
   ]
  },
  {
   "cell_type": "code",
   "execution_count": 32,
   "metadata": {},
   "outputs": [
    {
     "name": "stdout",
     "output_type": "stream",
     "text": [
      "now how to draw.  He answered me:\n",
      "\"That doesn't matter.  Draw me a sheep . . .\"\n",
      "But I had never draw\n",
      "\n",
      "know how to draw.  He answered me:\n",
      "\"That does not matter.  Draw me a sheep . . .\"\n",
      "But I had never dr\n"
     ]
    }
   ],
   "source": [
    "########### Código en pre_processing.py ###########\n",
    "\n",
    "# Si no tiene, puedes descarga-la con:\n",
    "# pip install contractions\n",
    "import contractions\n",
    "\n",
    "def expand_contractions(text):\n",
    "    # Eso codigo vas tomar un texto y cambiar las contraciones para las palabras que hacen ella.\n",
    "    text_uncont = contractions.fix(text)\n",
    "    return text_uncont\n",
    "\n",
    "print(book[5200:5300])\n",
    "book_uncont = expand_contractions(book)\n",
    "print()\n",
    "print(book_uncont[5200:5300])"
   ]
  },
  {
   "cell_type": "markdown",
   "metadata": {},
   "source": [
    "## Parte 1: Tokenización\n",
    "\n",
    "Es la tarea de cambiar un texto completo para una lista de palabras o frases, eso es hecho con la herramienta del nltk"
   ]
  },
  {
   "cell_type": "code",
   "execution_count": 36,
   "metadata": {},
   "outputs": [
    {
     "name": "stdout",
     "output_type": "stream",
     "text": [
      "['adventures', 'of', 'the', 'jungle', '.', 'And', 'after', 'some', 'work', 'with', 'a', 'colored', 'pencil', 'I', 'succeeded', 'in', 'making', 'my', 'first', 'drawing', '.', 'My', 'Drawing', 'Number', 'One', '.', 'It', 'looked', 'something', 'like', 'this', ':', 'I', 'showed', 'my', 'masterpiece', 'to', 'the', 'grown-ups', ',', 'and', 'asked', 'them', 'whether', 'the', 'drawing', 'frightened', 'them', '.', 'But', 'they', 'answered', ':', '``', 'Frighten', '?', 'Why', 'should', 'any', 'one', 'be', 'frightened', 'by', 'a', 'hat', '?', \"''\", 'My', 'drawing', 'was', 'not', 'a', 'picture', 'of', 'a', 'hat', '.', 'It', 'was', 'a', 'picture', 'of', 'a', 'boa', 'constrictor', 'digesting', 'an', 'elephant', '.', 'But', 'since', 'the', 'grown-ups', 'were', 'not', 'able', 'to', 'understand', 'it', ',']\n",
      "\n",
      "['\"There will surely be enough grass for him,\" I said.', '\"It is a very small sheep that I have given you.\"', 'He bent his head over the drawing.', '\"Not so small that--Look!', 'He has gone to sleep .']\n"
     ]
    }
   ],
   "source": [
    "########### Código en pre_processing.py ###########\n",
    "\n",
    "# Si no tiene, puedes descarga-la con:\n",
    "# pip install nltk\n",
    "from nltk import word_tokenize, sent_tokenize\n",
    "\n",
    "def tokenization_sentences(text):\n",
    "    tokens = []\n",
    "    tokens = sent_tokenize(text)\n",
    "    return tokens\n",
    "\n",
    "# En esa tarea utilizaremos la tokenizacion por palabras\n",
    "def tokenization_words(text):\n",
    "    tokens = []\n",
    "    tokens = word_tokenize(text)\n",
    "    return tokens\n",
    "\n",
    "# Ahora vamos hacer un print de los tokens del libro, tokenizando por palabras y despues por frases\n",
    "book_tok = tokenization_words(book_uncont)\n",
    "print(book_tok[100:200])\n",
    "print()\n",
    "book_tok_sent = tokenization_sentences(book_uncont)\n",
    "print(book_tok_sent[100:105])"
   ]
  },
  {
   "cell_type": "markdown",
   "metadata": {},
   "source": [
    "## Parte 2: Eliminar Ruído\n",
    "Acá vamos tirar las cosas que no traen informaciones, las palabras que son muy repetidas o no tienen significado sin otra palabra."
   ]
  },
  {
   "cell_type": "code",
   "execution_count": 43,
   "metadata": {},
   "outputs": [
    {
     "name": "stdout",
     "output_type": "stream",
     "text": [
      "['I', 'drew', 'inside', 'boa', 'constrictor', 'grownups', 'could', 'see', 'clearly', 'They', 'always', 'need', 'things', 'explained', 'My', 'Drawing', 'Number', 'Two', 'looked', 'like', 'The', 'grownups', 'response', 'time', 'advise', 'lay', 'aside', 'drawings', 'boa', 'constrictors', 'whether', 'inside', 'outside', 'devote', 'instead', 'geography', 'history', 'arithmetic', 'grammar', 'That', 'age', 'six', 'I', 'gave', 'might', 'magnificent', 'career', 'painter', 'I', 'disheartened', 'failure', 'Drawing', 'Number', 'One', 'Drawing', 'Number', 'Two', 'Grownups', 'never', 'understand', 'anything', 'tiresome', 'children', 'always', 'forever', 'explaining', 'things', 'So', 'I', 'chose', 'another', 'profession', 'learned', 'pilot', 'airplanes', 'I', 'flown', 'little', 'parts', 'world', 'true', 'geography', 'useful', 'At', 'glance', 'I', 'distinguish', 'China', 'Arizona', 'If', 'one', 'gets', 'lost', 'night', 'knowledge', 'valuable', 'In', 'course', 'life', 'I']\n"
     ]
    }
   ],
   "source": [
    "########### Código en pre_processing.py ###########\n",
    "\n",
    "import unicodedata\n",
    "import re\n",
    "from nltk.corpus import stopwords\n",
    "\n",
    "def remove_non_ascii(tokens):\n",
    "    # Acá vamos retirar todo que no és ASCII\n",
    "    new_tokens = [unicodedata.normalize('NFKD', token).encode('ascii', 'ignore').decode('utf-8', 'ignore') for token in tokens]\n",
    "    return new_tokens\n",
    "\n",
    "def remove_punctuation(tokens):\n",
    "    # Para cada token, vamos chequear si estan no regex '[^\\w\\s]' (no es una palabra, espacio o numero) y sustituir por nada (remover)\n",
    "    new_tokens = []\n",
    "    for token in tokens:\n",
    "        new_token = re.sub(r'[^\\w\\s]', '', token)\n",
    "        if(new_token != ''):\n",
    "            new_tokens.append(new_token)\n",
    "    \n",
    "    return new_tokens\n",
    "\n",
    "def remove_eng_stopwords(tokens):\n",
    "    # Si el token es una stopword en el diccionario inglés, debemos remove-la \n",
    "    new_tokens = []\n",
    "    for token in tokens:\n",
    "        if token not in stopwords.words('english'):\n",
    "            new_tokens.append(token)\n",
    "\n",
    "    return new_tokens\n",
    "\n",
    "book_tok_clean = remove_non_ascii(book_tok)\n",
    "book_tok_clean = remove_punctuation(book_tok_clean)\n",
    "book_tok_clean = remove_eng_stopwords(book_tok_clean)\n",
    "\n",
    "# Ahora vamos hacer un print de los tokens limpios (sin caracteres no ascii, ni puntuación, ni stopwords en inglés)\n",
    "print(book_tok_clean[100:200])"
   ]
  },
  {
   "cell_type": "markdown",
   "metadata": {},
   "source": [
    "Acá hay también otras palabras muy frecuentes, que deben ser removidas, pues aparecen mucho, entonces no hay un significado cuandoapareceren, pero esto será hecho despues, como tarea 2."
   ]
  },
  {
   "cell_type": "markdown",
   "metadata": {},
   "source": [
    "## Parte 3: Normalización\n",
    "Ahora vamos poner las informaciones que posuen lo mismo significado de forma igual, normalizar."
   ]
  },
  {
   "cell_type": "code",
   "execution_count": 46,
   "metadata": {},
   "outputs": [
    {
     "name": "stdout",
     "output_type": "stream",
     "text": [
      "['i', 'drew', 'insid', 'boa', 'constrictor', 'grownup', 'could', 'see', 'clearli', 'they', 'alway', 'need', 'thing', 'explain', 'my', 'draw', 'number', 'two', 'look', 'like', 'the', 'grownup', 'respons', 'time', 'advis', 'lay', 'asid', 'draw', 'boa', 'constrictor', 'whether', 'insid', 'outsid', 'devot', 'instead', 'geographi', 'histori', 'arithmet', 'grammar', 'that', 'age', 'six', 'i', 'gave', 'might', 'magnific', 'career', 'painter', 'i', 'dishearten']\n",
      "\n",
      "['i', 'drew', 'insid', 'boa', 'constrict', 'grownup', 'could', 'see', 'clear', 'they', 'alway', 'nee', 'thing', 'explain', 'my', 'draw', 'numb', 'two', 'look', 'lik', 'the', 'grownup', 'respons', 'tim', 'adv', 'lay', 'asid', 'draw', 'boa', 'constrict', 'wheth', 'insid', 'outsid', 'devot', 'instead', 'geograph', 'hist', 'arithmet', 'gramm', 'that', 'ag', 'six', 'i', 'gav', 'might', 'magn', 'car', 'paint', 'i', 'disheart']\n",
      "\n",
      "['i', 'drew', 'inside', 'boa', 'constrictor', 'grownup', 'could', 'see', 'clearly', 'they', 'always', 'need', 'thing', 'explained', 'my', 'drawing', 'number', 'two', 'looked', 'like', 'the', 'grownup', 'response', 'time', 'advise', 'lay', 'aside', 'drawing', 'boa', 'constrictor', 'whether', 'inside', 'outside', 'devote', 'instead', 'geography', 'history', 'arithmetic', 'grammar', 'that', 'age', 'six', 'i', 'gave', 'might', 'magnificent', 'career', 'painter', 'i', 'disheartened']\n"
     ]
    }
   ],
   "source": [
    "########### Código en pre_processing.py ###########\n",
    "\n",
    "# Si no tiene, puedes descarga-la con:\n",
    "# pip install inflect\n",
    "\n",
    "import inflect\n",
    "import nltk\n",
    "\n",
    "def to_lowercase(tokens):\n",
    "    # Para cada token vamos utilizar la función de string lower(), que hace con que las letras cambien para minusculas\n",
    "    new_tokens = [token.lower() for token in tokens] \n",
    "    return new_tokens\n",
    "\n",
    "def replace_numbers(tokens):\n",
    "    # Vamos utilizar la libreria inflect para cambiar numeros (ejemplo: 4) para su forma escrita (cuatro)\n",
    "    inf = inflect.engine()\n",
    "    new_tokens = []\n",
    "    \n",
    "    for token in tokens:\n",
    "        # Hace una checagem para ver si la string es un numero\n",
    "        if(token.isdigit()):\n",
    "            new_token = inf.number_to_words(token)\n",
    "            new_tokens.append(new_token)\n",
    "        else:\n",
    "            new_tokens.append(token)\n",
    "            \n",
    "    return new_tokens\n",
    "\n",
    "# Acá hay 2 stemmers y un lemmatización, mas adelante vamos dejar la opcion para la persona eligir cual quieres usar, pero\n",
    "# ahora vamos usar por estandár la lemmatización\n",
    "\n",
    "def stem_porter(tokens):\n",
    "    porter = nltk.PorterStemmer()\n",
    "    return [porter.stem(t) for t in tokens]\n",
    "\n",
    "def stem_lancaster(tokens):\n",
    "    lancaster = nltk.LancasterStemmer()\n",
    "    return [lancaster.stem(t) for t in tokens]\n",
    "    \n",
    "def lemmatization(tokens):\n",
    "    wnl = nltk.WordNetLemmatizer()\n",
    "    return [wnl.lemmatize(t) for t in tokens]\n",
    "\n",
    "# Hace la normalización\n",
    "book_norm = to_lowercase(book_tok_clean)\n",
    "book_norm = replace_numbers(book_norm)\n",
    "\n",
    "# Despues hace los dos stemmers y la lemmatización\n",
    "book_norm_porter = stem_porter(book_norm)\n",
    "book_norm_lancaster = stem_lancaster(book_norm)\n",
    "book_norm_lemma = lemmatization(book_norm)\n",
    "\n",
    "# Hace un print para comparar los 3\n",
    "print(book_norm_porter[100:150])\n",
    "print()\n",
    "print(book_norm_lancaster[100:150])\n",
    "print()\n",
    "print(book_norm_lemma[100:150])\n"
   ]
  },
  {
   "cell_type": "markdown",
   "metadata": {},
   "source": [
    "## Parte Final: todo el preprocesamiento\n",
    "Ahora vamos juntar todas las partes y hacer un solo proceso para pre-procesar el texto"
   ]
  },
  {
   "cell_type": "code",
   "execution_count": 50,
   "metadata": {},
   "outputs": [
    {
     "name": "stdout",
     "output_type": "stream",
     "text": [
      "['time', 'advis', 'lay', 'asid', 'draw', 'boa', 'constrictor', 'whether', 'insid', 'outsid', 'devot', 'instead', 'geographi', 'histori', 'arithmet', 'grammar', 'age', 'six', 'gave', 'might', 'magnific', 'career', 'painter', 'dishearten', 'failur', 'draw', 'number', 'one', 'draw', 'number', 'two', 'grownup', 'never', 'understand', 'anyth', 'tiresom', 'children', 'alway', 'forev', 'explain', 'thing', 'chose', 'anoth', 'profess', 'learn', 'pilot', 'airplan', 'flown', 'littl', 'part', 'world', 'true', 'geographi', 'use', 'glanc', 'distinguish', 'china', 'arizona', 'one', 'get', 'lost', 'night', 'knowledg', 'valuabl', 'cours', 'life', 'great', 'mani', 'encount', 'great', 'mani', 'peopl', 'concern', 'matter', 'consequ', 'live', 'great', 'deal', 'among', 'grownup', 'seen', 'intim', 'close', 'hand', 'much', 'improv', 'opinion', 'whenev', 'met', 'one', 'seem', 'clearsight', 'tri', 'experi', 'show', 'draw', 'number', 'one', 'alway', 'kept']\n"
     ]
    }
   ],
   "source": [
    "########### Código en pre_processing.py ###########\n",
    "\n",
    "from enum import Enum\n",
    "\n",
    "# Vamos hacer un enum para que la persona que vá utilizar el software pueda eligir\n",
    "class StemLem(Enum):\n",
    "    PORTER = 1\n",
    "    LANCASTER = 2\n",
    "    LEMMATIZATION = 3\n",
    "\n",
    "# Acá hace todo el proceso de eliminación de ruído y normalización, con el conjunto de tokens\n",
    "def normalize(tokens):\n",
    "    tokens = remove_non_ascii(tokens)\n",
    "    tokens = to_lowercase(tokens)\n",
    "    tokens = remove_punctuation(tokens)\n",
    "    tokens = replace_numbers(tokens)\n",
    "    tokens = remove_eng_stopwords(tokens)\n",
    "    return tokens\n",
    "\n",
    "# Acá vamos recibir el texto y cambiar para tokens, hacendo la normalización y despues utilizar el metodo\n",
    "# (Stemming - Porter, Stemming - Lancaster o Lemmatization) que la persona eligir, con Lemmatization como estándar\n",
    "def pre_process_text(text, stem_lem = StemLem.LEMMATIZATION):\n",
    "    text_expanded = expand_contractions(text)\n",
    "    tokenized_text = tokenization_words(text_expanded)\n",
    "    normalized_tokens = normalize(tokenized_text)\n",
    "    \n",
    "    if(stem_lem == StemLem.PORTER):\n",
    "        normalized_tokens = stem_porter(normalized_tokens)\n",
    "    elif(stem_lem == StemLem.LANCASTER):\n",
    "        normalized_tokens = stem_lancaster(normalized_tokens)\n",
    "    elif(stem_lem == StemLem.LEMMATIZATION):\n",
    "        normalized_tokens = lemmatization(normalized_tokens)\n",
    "        \n",
    "    return normalized_tokens\n",
    "\n",
    "# Ahora podemos pasar el texto completo para el metodo \"pre_process_text\" y tener los tokens normalizados\n",
    "# y con stemming o lemmatización\n",
    "p_p_book = pre_process_text(book, StemLem.PORTER)\n",
    "print(p_p_book[100:200])"
   ]
  },
  {
   "cell_type": "markdown",
   "metadata": {},
   "source": [
    "Asi tenemos la tarea 3 completa.\n",
    "\n",
    "# 2ª Tarea\n",
    "\n",
    "Ahora que el texto esta limpio y tokenizado, es posible chequear las palabras mas frecuentes. Para eso necesitamos explorar el texto, entonces vamos crear una clase Text Explorer que hace eso utilizando las funciones que hicimos antes."
   ]
  },
  {
   "cell_type": "code",
   "execution_count": 53,
   "metadata": {},
   "outputs": [
    {
     "name": "stdout",
     "output_type": "stream",
     "text": [
      "Las 50 palabras mas comunes son:\n",
      "[('little', 258), ('said', 195), ('prince', 184), ('one', 134), ('planet', 73), ('flower', 68), ('would', 63), ('like', 58), ('time', 52), ('star', 52), ('good', 49), ('know', 46), ('never', 41), ('sheep', 41), ('make', 38), ('come', 38), ('day', 38), ('made', 37), ('king', 37), ('fox', 37), ('shall', 35), ('see', 34), ('man', 34), ('much', 33), ('nothing', 32), ('morning', 31), ('could', 30), ('look', 30), ('asked', 27), ('drawing', 26), ('yes', 26), ('go', 26), ('order', 26), ('say', 25), ('first', 23), ('grownup', 23), ('away', 23), ('geographer', 23), ('rose', 23), ('understand', 22), ('thing', 22), ('life', 22), ('matter', 22), ('question', 22), ('friend', 22), ('well', 22), ('back', 22), ('men', 22), ('anything', 21), ('earth', 21)]\n",
      "\n",
      "Ahora un grafico con las 50 palavras mas comunes:\n"
     ]
    },
    {
     "data": {
      "image/png": "[encoded data removed]",
      "text/plain": [
       "<Figure size 432x288 with 1 Axes>"
      ]
     },
     "metadata": {
      "needs_background": "light"
     },
     "output_type": "display_data"
    },
    {
     "name": "stdout",
     "output_type": "stream",
     "text": [
      "None\n"
     ]
    }
   ],
   "source": [
    "########### Código en text_exploration.py ###########\n",
    "from nltk import FreqDist\n",
    "\n",
    "# Tenemos un Enum para que la persona pueda eligir cual quieres usar. \n",
    "class Text(Enum):\n",
    "    NONE = 0\n",
    "    PORTERED = 1\n",
    "    LANCASTERED = 2\n",
    "    LEMMATIZED = 3\n",
    "    \n",
    "class Text_Explorer():\n",
    "    \n",
    "    # En el primero vamos tener el texto en un formato nltk.Text\n",
    "    __nltk_text = []\n",
    "    # En el segundo vamos tener la distribuición de frecuencia de los tokens\n",
    "    __freq_dist = []\n",
    "    \n",
    "    # Ese es el método que va cargar todo el texto cuando la persona pasar el path del archivo\n",
    "    def __read_book_from_source(self, source):\n",
    "        f = open(source, 'r')\n",
    "        text = ''\n",
    "        for line in f:\n",
    "            if(line != '\\n'):\n",
    "                text += line\n",
    "        \n",
    "        return text\n",
    "    \n",
    "    # Con el objeto nltk.text que vamos crear podemos crear un objeto FreqDist\n",
    "    def __frequency_distribution(self, text):\n",
    "        freq_dist = FreqDist(text)\n",
    "        return freq_dist\n",
    "    \n",
    "    # El constructor de la clase\n",
    "    def __init__(self, source):\n",
    "        \n",
    "        # Acá tenemos todo el texto del libro, sin tratamiento\n",
    "        raw = self.__read_book_from_source(source)\n",
    "        \n",
    "        # Ahora creamos 4 tokens, un para cada modo: Ningun Stemmer or Lammatizer, Porter, Lancaster y por fin Lemmatization\n",
    "        tokens_none = pre_process_text(raw, None)\n",
    "        tokens_porter = pre_process_text(raw, StemLem.PORTER)\n",
    "        tokens_lancaster = pre_process_text(raw, StemLem.LANCASTER)\n",
    "        tokens_lemmatization = pre_process_text(raw, StemLem.LEMMATIZATION)\n",
    "        \n",
    "        # Hacemos los nltk.Text para cada token y sus respectivos FreqDist\n",
    "        nltk_text_none = nltk.Text(tokens_none)\n",
    "        freq_dist_none = self.__frequency_distribution(nltk_text_none)\n",
    "        nltk_text_porter = nltk.Text(tokens_porter)\n",
    "        freq_dist_porter = self.__frequency_distribution(nltk_text_porter)\n",
    "        nltk_text_lancaster = nltk.Text(tokens_lancaster)\n",
    "        freq_dist_lancaster = self.__frequency_distribution(nltk_text_lancaster)\n",
    "        nltk_text_lemmatization = nltk.Text(tokens_lemmatization)\n",
    "        freq_dist_lemmatization = self.__frequency_distribution(nltk_text_lemmatization)\n",
    "        \n",
    "        # Por fin ponemos todos en las listas, asi cuando utilizar el enum, podemos usar lo equivalente.\n",
    "        # None es el index 0, el primero, porter es el index 1, el segundo, y asi por delante.\n",
    "        self.__nltk_text = [nltk_text_none, nltk_text_porter, nltk_text_lancaster, nltk_text_lemmatization]\n",
    "        self.__freq_dist = [freq_dist_none, freq_dist_porter, freq_dist_lancaster, freq_dist_lemmatization]\n",
    "        \n",
    "    # Ese metodo entrega una lista con las palabras mas comunes (puede poner un limite)\n",
    "    def most_frequent_words(self, limit=500, text=Text.LEMMATIZED):\n",
    "        ret = [i for i in self.__freq_dist[text.value].most_common(limit)]\n",
    "        return ret\n",
    "    \n",
    "    # Acá poderemos hacer un plot de las \"number\" palabras más comunes\n",
    "    def plot_frequency_distribution_number(self, number, text=Text.LEMMATIZED):\n",
    "        %matplotlib inline \n",
    "        ret = self.__freq_dist[text.value].plot(number)\n",
    "        return ret\n",
    "    \n",
    "    # Ese es para la 4ª tarea, es para hacer un grafico de disperción de un conjunto de palabras por todo el libro\n",
    "    def dispersion_plot_words(self, words, text=Text.LEMMATIZED):\n",
    "        %matplotlib inline\n",
    "        ret = self.__nltk_text[text.value].dispersion_plot(words)\n",
    "        return ret    \n",
    "    \n",
    "# Ahora podemos utilizar la clase\n",
    "txt_exp = Text_Explorer(book_file)\n",
    "print(\"Las 50 palabras mas comunes son:\")\n",
    "print(txt_exp.most_frequent_words(50))\n",
    "print(\"\\nAhora un grafico con las 50 palavras mas comunes:\")\n",
    "print(txt_exp.plot_frequency_distribution_number(50))"
   ]
  },
  {
   "cell_type": "markdown",
   "metadata": {},
   "source": [
    "Asi podemos buscar las palabras mas comunes con el FreqDist, esas son las stopwords, junto con las stopwords del idioma inglés. Cual es el limite para una palabra ser \"muy comum\" que no hay un significado es subjetivo, entonces yo voy considerar las que aparecen más de 100 veces como sin significado pues aparecen \"mucho\"."
   ]
  },
  {
   "cell_type": "code",
   "execution_count": 69,
   "metadata": {},
   "outputs": [
    {
     "name": "stdout",
     "output_type": "stream",
     "text": [
      "Las stop-words son las stopwords del vocabulario inglés:\n",
      "['i', 'me', 'my', 'myself', 'we', 'our', 'ours', 'ourselves', 'you', \"you're\", \"you've\", \"you'll\", \"you'd\", 'your', 'yours', 'yourself', 'yourselves', 'he', 'him', 'his', 'himself', 'she', \"she's\", 'her', 'hers', 'herself', 'it', \"it's\", 'its', 'itself'] (...)\n",
      "(179 elementos)\n",
      "Y las palabras que aparecen mas de 100 veces en el libro:\n",
      "['little', 'said', 'prince', 'one']\n"
     ]
    }
   ],
   "source": [
    "print(\"Las stop-words son las stopwords del vocabulario inglés:\")\n",
    "print(\"{} (...)\".format(stopwords.words('english')[:30]))\n",
    "print(\"({} elementos)\".format(len(stopwords.words('english'))))\n",
    "print(\"Y las palabras que aparecen mas de 100 veces en el libro:\")\n",
    "print([key for key, value in [element for element in txt_exp.most_frequent_words(4)]])"
   ]
  },
  {
   "cell_type": "markdown",
   "metadata": {},
   "source": [
    "# 4ª Tarea\n",
    "Abajo hay un gráfico con la disperción de las palabras: little, prince, sheep, planet, astronomer, king, rose"
   ]
  },
  {
   "cell_type": "code",
   "execution_count": 70,
   "metadata": {},
   "outputs": [
    {
     "data": {
      "image/png": "[encoded data removed]",
      "text/plain": [
       "<Figure size 432x288 with 1 Axes>"
      ]
     },
     "metadata": {
      "needs_background": "light"
     },
     "output_type": "display_data"
    }
   ],
   "source": [
    "words = ['little', 'prince', 'sheep', 'planet', 'astronomer', 'king', 'rose']\n",
    "txt_exp.dispersion_plot_words(words)"
   ]
  },
  {
   "cell_type": "code",
   "execution_count": null,
   "metadata": {},
   "outputs": [],
   "source": []
  }
 ],
 "metadata": {
  "kernelspec": {
   "display_name": "Python 3",
   "language": "python",
   "name": "python3"
  },
  "language_info": {
   "codemirror_mode": {
    "name": "ipython",
    "version": 3
   },
   "file_extension": ".py",
   "mimetype": "text/x-python",
   "name": "python",
   "nbconvert_exporter": "python",
   "pygments_lexer": "ipython3",
   "version": "3.7.1"
  }
 },
 "nbformat": 4,
 "nbformat_minor": 2
}
